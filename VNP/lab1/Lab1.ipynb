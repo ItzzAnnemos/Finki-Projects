{
 "nbformat": 4,
 "nbformat_minor": 0,
 "metadata": {
  "colab": {
   "provenance": []
  },
  "kernelspec": {
   "name": "python3",
   "display_name": "Python 3 (ipykernel)",
   "language": "python"
  },
  "language_info": {
   "name": "python"
  }
 },
 "cells": [
  {
   "cell_type": "markdown",
   "source": [
    "# Lab Exercise 1. Scraping Static Websites\n"
   ],
   "metadata": {
    "id": "skreU4ZawqQ_"
   }
  },
  {
   "cell_type": "markdown",
   "source": [
    "This is the warmup task for the first laboratory exercise. It consists of scraping static Websites with BeautifulSoap.\n",
    "\n",
    " It should be completed at home and presented at the laboratory."
   ],
   "metadata": {
    "id": "VzAWoqz5wwT9"
   }
  },
  {
   "cell_type": "markdown",
   "source": [
    "**Total points: 2**"
   ],
   "metadata": {
    "id": "qpdvbrsow5EE"
   }
  },
  {
   "cell_type": "markdown",
   "source": [
    "### Task Description"
   ],
   "metadata": {
    "id": "6eDmGLrXx0t8"
   }
  },
  {
   "cell_type": "markdown",
   "source": [
    "Scrape the information about the products on the following page:\n",
    "https://clevershop.mk/product-category/mobilni-laptopi-i-tableti/"
   ],
   "metadata": {
    "id": "RG42MHsDxAP_"
   }
  },
  {
   "cell_type": "markdown",
   "source": [
    "For each product scrape:\n",
    "\n",
    "\n",
    "*   Product title (selector `'.wd-entities-title'`)\n",
    "*   Product regular price (selector `'.woocommerce-Price-amount'`)\n",
    "*   Product discount price (if available), same selector as regular price\n",
    "*   URL to the product page\n",
    "*   Add to cart button URL\n",
    "\n",
    "***Help: There are multiple product pages, for each page you need to send a separate request***\n"
   ],
   "metadata": {
    "id": "uoTcMRl4xP3G"
   }
  },
  {
   "cell_type": "markdown",
   "source": [
    "Save the results as a DataFrame object"
   ],
   "metadata": {
    "id": "tc0QvUR8xxwt"
   }
  },
  {
   "cell_type": "markdown",
   "source": [
    "You can add as many code cells as you need."
   ],
   "metadata": {
    "id": "peGjiUZLzbZt"
   }
  },
  {
   "cell_type": "markdown",
   "source": [
    "________________________________________________________________"
   ],
   "metadata": {
    "id": "b7U-kwKSzUIV"
   }
  },
  {
   "cell_type": "markdown",
   "source": [
    "### Requirements"
   ],
   "metadata": {
    "id": "yn5gyMzNx5Vk"
   }
  },
  {
   "cell_type": "markdown",
   "source": [
    "Import libraries and modules that you are going to use"
   ],
   "metadata": {
    "id": "WZ3ifNLhx7tk"
   }
  },
  {
   "cell_type": "code",
   "source": [
    "import pandas as pd\n",
    "from bs4 import BeautifulSoup\n",
    "import requests\n",
    "\n",
    "url = \"https://clevershop.mk/product-category/mobilni-laptopi-i-tableti/\""
   ],
   "metadata": {
    "id": "GQ3zSO8WyJC_",
    "ExecuteTime": {
     "end_time": "2024-10-26T00:35:18.853713Z",
     "start_time": "2024-10-26T00:35:18.848039Z"
    }
   },
   "outputs": [],
   "execution_count": 50
  },
  {
   "cell_type": "markdown",
   "source": [
    "### Send HTTP request to the target Website"
   ],
   "metadata": {
    "id": "fsR71mugyJP7"
   }
  },
  {
   "cell_type": "code",
   "source": [
    "response = requests.get(url)\n",
    "response"
   ],
   "metadata": {
    "id": "61ImGen2yQff",
    "ExecuteTime": {
     "end_time": "2024-10-25T23:19:00.343910Z",
     "start_time": "2024-10-25T23:18:59.902036Z"
    }
   },
   "outputs": [
    {
     "data": {
      "text/plain": [
       "<Response [200]>"
      ]
     },
     "execution_count": 7,
     "metadata": {},
     "output_type": "execute_result"
    }
   ],
   "execution_count": 7
  },
  {
   "cell_type": "markdown",
   "source": [
    "check the response status code"
   ],
   "metadata": {
    "id": "lFnRsSVJyXit"
   }
  },
  {
   "cell_type": "code",
   "source": "response.status_code",
   "metadata": {
    "id": "xy6xJ3RGyXUN",
    "ExecuteTime": {
     "end_time": "2024-10-25T23:19:05.386707Z",
     "start_time": "2024-10-25T23:19:05.377436Z"
    }
   },
   "outputs": [
    {
     "data": {
      "text/plain": [
       "200"
      ]
     },
     "execution_count": 8,
     "metadata": {},
     "output_type": "execute_result"
    }
   ],
   "execution_count": 8
  },
  {
   "cell_type": "markdown",
   "source": [
    "### Parse the response content with BeautifulSoap"
   ],
   "metadata": {
    "id": "-MykzAV4yQ4j"
   }
  },
  {
   "cell_type": "code",
   "source": [
    "raw = response.text\n",
    "soup = BeautifulSoup(raw, 'html.parser')"
   ],
   "metadata": {
    "id": "F92A3wvlyUBc",
    "ExecuteTime": {
     "end_time": "2024-10-26T00:32:58.915030Z",
     "start_time": "2024-10-26T00:32:58.829001Z"
    }
   },
   "outputs": [],
   "execution_count": 46
  },
  {
   "cell_type": "markdown",
   "source": [
    "### Extract data from the BeautifulSoap object using any selectors, attribute identifiers, etc."
   ],
   "metadata": {
    "id": "F8hifMvVycfV"
   }
  },
  {
   "cell_type": "markdown",
   "source": [
    "* Product title (selector '.wd-entities-title')\n",
    "* Product regular price (selector '.woocommerce-Price-amount')\n",
    "* Product discount price (if available), same selector as regular price\n",
    "* URL to the product page\n",
    "* Add to cart button URL"
   ],
   "metadata": {
    "id": "sHgfHr61y2tD"
   }
  },
  {
   "cell_type": "code",
   "source": [
    "def extract_as_dictionary(product):\n",
    "    name = product.select_one('.wd-entities-title').text\n",
    "    req_price = product.select_one('.woocommerce-Price-amount')\n",
    "    if req_price is not None:\n",
    "        req_price = req_price.text.strip()\n",
    "    sale_price = product.select_one('ins .woocommerce-Price-amount')\n",
    "    if sale_price is not None:\n",
    "        sale_price = sale_price.text.strip()\n",
    "    product_url = product.select_one('.product-image-link').get('href')\n",
    "    add_to_cart_url = product.select_one('.add_to_cart_button').get('href')\n",
    "\n",
    "    product_dictionary = {\n",
    "        \"Name\": name,\n",
    "        \"Price\": req_price,\n",
    "        \"SalePrice\": sale_price,\n",
    "        \"Url\": product_url,\n",
    "        \"AddToCartUrl\": add_to_cart_url\n",
    "    }\n",
    "\n",
    "    return product_dictionary"
   ],
   "metadata": {
    "id": "UV1kZCRyycQF",
    "ExecuteTime": {
     "end_time": "2024-10-26T01:01:26.904448Z",
     "start_time": "2024-10-26T01:01:26.893970Z"
    }
   },
   "outputs": [],
   "execution_count": 77
  },
  {
   "cell_type": "markdown",
   "source": [
    "Repeat the extraction process for each page of products"
   ],
   "metadata": {
    "id": "gToy7d5Jy9Qk"
   }
  },
  {
   "cell_type": "code",
   "source": [
    "all_products = []\n",
    "for i in range(1, 15):\n",
    "    new_url = url + \"page/\" + str(i) + \"/\"\n",
    "    response = requests.get(new_url)\n",
    "    soup = BeautifulSoup(response.text, 'html.parser')\n",
    "    products = soup.select('.product-grid-item')\n",
    "    for p in products:\n",
    "        all_products.append(extract_as_dictionary(p))"
   ],
   "metadata": {
    "id": "rVdYuEv3zArs",
    "ExecuteTime": {
     "end_time": "2024-10-26T01:01:41.432763Z",
     "start_time": "2024-10-26T01:01:29.389520Z"
    }
   },
   "outputs": [],
   "execution_count": 78
  },
  {
   "metadata": {},
   "cell_type": "markdown",
   "source": "### Create a pandas DataFrame with the scraped products"
  },
  {
   "cell_type": "code",
   "source": [
    "all_products_df = pd.DataFrame(all_products)\n",
    "len(all_products_df)"
   ],
   "metadata": {
    "id": "-wCzGEj8yrKU",
    "ExecuteTime": {
     "end_time": "2024-10-26T01:01:42.166451Z",
     "start_time": "2024-10-26T01:01:42.155905Z"
    }
   },
   "outputs": [
    {
     "data": {
      "text/plain": [
       "320"
      ]
     },
     "execution_count": 79,
     "metadata": {},
     "output_type": "execute_result"
    }
   ],
   "execution_count": 79
  },
  {
   "cell_type": "markdown",
   "source": [
    "Save the dataframe as `.csv`"
   ],
   "metadata": {
    "id": "Rxbi54EOyrb8"
   }
  },
  {
   "cell_type": "code",
   "source": [
    "all_products_df.to_csv(\"all_products.csv\")\n",
    "all_products_df"
   ],
   "metadata": {
    "id": "TLNfZQ07yuQE",
    "ExecuteTime": {
     "end_time": "2024-10-26T01:01:44.525400Z",
     "start_time": "2024-10-26T01:01:44.499303Z"
    }
   },
   "outputs": [
    {
     "data": {
      "text/plain": [
       "                                                  Name       Price  \\\n",
       "0                                    Acer A315-23-A7KD  17.590 ден   \n",
       "1                                    Acer A315-23-R5P2  27.490 ден   \n",
       "2                                ACER Aspire 1 A115-22  18.999 ден   \n",
       "3                           Acer Aspire 3 A315-23-R26A  29.990 ден   \n",
       "4                           Acer Aspire 3 A315-58-33WK  24.490 ден   \n",
       "..                                                 ...         ...   \n",
       "315        Monitor 27 Philips 272E1GAJ/00 VA 1ms 144Hz  12.890 ден   \n",
       "316                              Philips 24″ 243V7QDSB   8.390 ден   \n",
       "317                   Philips 27″ 278E1A/00 4K UHD IPS  18.990 ден   \n",
       "318  Philips 279C9-00 MON LED 27″ 3840 x 2160 5Ms 6...  26.990 ден   \n",
       "319                      Xiaomi Redmi AirDots Wireless     990 ден   \n",
       "\n",
       "      SalePrice                                                Url  \\\n",
       "0          None   https://clevershop.mk/product/acer-a315-23-a7kd/   \n",
       "1          None   https://clevershop.mk/product/acer-a315-23-r5p2/   \n",
       "2    15.999 ден  https://clevershop.mk/product/acer-aspire-1-nx...   \n",
       "3          None  https://clevershop.mk/product/acer-aspire-3-a3...   \n",
       "4          None               https://clevershop.mk/product/21498/   \n",
       "..          ...                                                ...   \n",
       "315        None  https://clevershop.mk/product/monitor-27-phili...   \n",
       "316        None  https://clevershop.mk/product/philips-24%e2%80...   \n",
       "317        None  https://clevershop.mk/product/hp-27%e2%80%b3-2...   \n",
       "318        None  https://clevershop.mk/product/philips-279c9-00...   \n",
       "319        None    https://clevershop.mk/product/redmi-headphones/   \n",
       "\n",
       "           AddToCartUrl  \n",
       "0    ?add-to-cart=21494  \n",
       "1    ?add-to-cart=21510  \n",
       "2    ?add-to-cart=20826  \n",
       "3    ?add-to-cart=21516  \n",
       "4    ?add-to-cart=21498  \n",
       "..                  ...  \n",
       "315  ?add-to-cart=12618  \n",
       "316  ?add-to-cart=12396  \n",
       "317  ?add-to-cart=12218  \n",
       "318  ?add-to-cart=12578  \n",
       "319  ?add-to-cart=10663  \n",
       "\n",
       "[320 rows x 5 columns]"
      ],
      "text/html": [
       "<div>\n",
       "<style scoped>\n",
       "    .dataframe tbody tr th:only-of-type {\n",
       "        vertical-align: middle;\n",
       "    }\n",
       "\n",
       "    .dataframe tbody tr th {\n",
       "        vertical-align: top;\n",
       "    }\n",
       "\n",
       "    .dataframe thead th {\n",
       "        text-align: right;\n",
       "    }\n",
       "</style>\n",
       "<table border=\"1\" class=\"dataframe\">\n",
       "  <thead>\n",
       "    <tr style=\"text-align: right;\">\n",
       "      <th></th>\n",
       "      <th>Name</th>\n",
       "      <th>Price</th>\n",
       "      <th>SalePrice</th>\n",
       "      <th>Url</th>\n",
       "      <th>AddToCartUrl</th>\n",
       "    </tr>\n",
       "  </thead>\n",
       "  <tbody>\n",
       "    <tr>\n",
       "      <th>0</th>\n",
       "      <td>Acer A315-23-A7KD</td>\n",
       "      <td>17.590 ден</td>\n",
       "      <td>None</td>\n",
       "      <td>https://clevershop.mk/product/acer-a315-23-a7kd/</td>\n",
       "      <td>?add-to-cart=21494</td>\n",
       "    </tr>\n",
       "    <tr>\n",
       "      <th>1</th>\n",
       "      <td>Acer A315-23-R5P2</td>\n",
       "      <td>27.490 ден</td>\n",
       "      <td>None</td>\n",
       "      <td>https://clevershop.mk/product/acer-a315-23-r5p2/</td>\n",
       "      <td>?add-to-cart=21510</td>\n",
       "    </tr>\n",
       "    <tr>\n",
       "      <th>2</th>\n",
       "      <td>ACER Aspire 1 A115-22</td>\n",
       "      <td>18.999 ден</td>\n",
       "      <td>15.999 ден</td>\n",
       "      <td>https://clevershop.mk/product/acer-aspire-1-nx...</td>\n",
       "      <td>?add-to-cart=20826</td>\n",
       "    </tr>\n",
       "    <tr>\n",
       "      <th>3</th>\n",
       "      <td>Acer Aspire 3 A315-23-R26A</td>\n",
       "      <td>29.990 ден</td>\n",
       "      <td>None</td>\n",
       "      <td>https://clevershop.mk/product/acer-aspire-3-a3...</td>\n",
       "      <td>?add-to-cart=21516</td>\n",
       "    </tr>\n",
       "    <tr>\n",
       "      <th>4</th>\n",
       "      <td>Acer Aspire 3 A315-58-33WK</td>\n",
       "      <td>24.490 ден</td>\n",
       "      <td>None</td>\n",
       "      <td>https://clevershop.mk/product/21498/</td>\n",
       "      <td>?add-to-cart=21498</td>\n",
       "    </tr>\n",
       "    <tr>\n",
       "      <th>...</th>\n",
       "      <td>...</td>\n",
       "      <td>...</td>\n",
       "      <td>...</td>\n",
       "      <td>...</td>\n",
       "      <td>...</td>\n",
       "    </tr>\n",
       "    <tr>\n",
       "      <th>315</th>\n",
       "      <td>Monitor 27 Philips 272E1GAJ/00 VA 1ms 144Hz</td>\n",
       "      <td>12.890 ден</td>\n",
       "      <td>None</td>\n",
       "      <td>https://clevershop.mk/product/monitor-27-phili...</td>\n",
       "      <td>?add-to-cart=12618</td>\n",
       "    </tr>\n",
       "    <tr>\n",
       "      <th>316</th>\n",
       "      <td>Philips 24″ 243V7QDSB</td>\n",
       "      <td>8.390 ден</td>\n",
       "      <td>None</td>\n",
       "      <td>https://clevershop.mk/product/philips-24%e2%80...</td>\n",
       "      <td>?add-to-cart=12396</td>\n",
       "    </tr>\n",
       "    <tr>\n",
       "      <th>317</th>\n",
       "      <td>Philips 27″ 278E1A/00 4K UHD IPS</td>\n",
       "      <td>18.990 ден</td>\n",
       "      <td>None</td>\n",
       "      <td>https://clevershop.mk/product/hp-27%e2%80%b3-2...</td>\n",
       "      <td>?add-to-cart=12218</td>\n",
       "    </tr>\n",
       "    <tr>\n",
       "      <th>318</th>\n",
       "      <td>Philips 279C9-00 MON LED 27″ 3840 x 2160 5Ms 6...</td>\n",
       "      <td>26.990 ден</td>\n",
       "      <td>None</td>\n",
       "      <td>https://clevershop.mk/product/philips-279c9-00...</td>\n",
       "      <td>?add-to-cart=12578</td>\n",
       "    </tr>\n",
       "    <tr>\n",
       "      <th>319</th>\n",
       "      <td>Xiaomi Redmi AirDots Wireless</td>\n",
       "      <td>990 ден</td>\n",
       "      <td>None</td>\n",
       "      <td>https://clevershop.mk/product/redmi-headphones/</td>\n",
       "      <td>?add-to-cart=10663</td>\n",
       "    </tr>\n",
       "  </tbody>\n",
       "</table>\n",
       "<p>320 rows × 5 columns</p>\n",
       "</div>"
      ]
     },
     "execution_count": 80,
     "metadata": {},
     "output_type": "execute_result"
    }
   ],
   "execution_count": 80
  }
 ]
}
